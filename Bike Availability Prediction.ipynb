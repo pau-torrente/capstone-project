{
 "cells": [
  {
   "cell_type": "markdown",
   "id": "878d83bc",
   "metadata": {},
   "source": [
    "##  Bike Availability Prediction\n",
    "\n",
    "1. last_updated : Timestamp of the file\n",
    "2. ttl : TimeToLive of the response\n",
    "3. data : Station information array container\n",
    "    * station_id : Station identifier\n",
    "    * num_bikes_available : Number of bikes available\n",
    "    * num_bikes_available_types: Array of available bike types\n",
    "    * mechanical : Number of mechanical bicycles available\n",
    "    * ebike: Number of electric bikes available\n",
    "    * num_docks_available: Number of available docks\n",
    "    * is_installed: The station is correctly installed (0-NO,1-YES)\n",
    "    * is_renting: Station is successfully providing bikes\n",
    "    * is_returning: The station is successfully docking bikes\n",
    "    * last_reported: Timestamp of station information\n",
    "    * is_charging_station: The station has electric bike charging capacity\n",
    "    * status: Status of the station (IN_SERVICE=In service, CLOSED=Closed)"
   ]
  },
  {
   "cell_type": "raw",
   "id": "c8499a5c",
   "metadata": {},
   "source": [
    "! pip install pyarrow\n",
    "! pip install pyshp\n",
    "! pip install shapely\n",
    "! pip install descartes\n",
    "! pip install py7zr"
   ]
  },
  {
   "cell_type": "code",
   "execution_count": 85,
   "id": "d4197166",
   "metadata": {},
   "outputs": [],
   "source": [
    "# Import libraries\n",
    "# Python ≥3.5 is required\n",
    "import sys\n",
    "assert sys.version_info >= (3, 5)\n",
    "\n",
    "# Scikit-Learn ≥0.20 is required\n",
    "import sklearn\n",
    "assert sklearn.__version__ >= \"0.20\"\n",
    "\n",
    "import pandas as pd\n",
    "import numpy as np\n",
    "import urllib.request\n",
    "import zipfile\n",
    "import os\n",
    "from tqdm.notebook import tqdm\n",
    "import pyarrow.parquet as pq\n",
    "import py7zr\n",
    "import zipfile\n",
    "from pathlib import Path\n",
    "import datetime"
   ]
  },
  {
   "cell_type": "code",
   "execution_count": 86,
   "id": "0f0ba68a",
   "metadata": {},
   "outputs": [],
   "source": [
    "# Ignore useless warnings (see SciPy issue #5998)\n",
    "import warnings\n",
    "from sklearn.exceptions import DataConversionWarning\n",
    "from pandas.core.common import SettingWithCopyWarning\n",
    "# warnings.filterwarnings(action=\"ignore\", message=\"^internal gelsd\")\n",
    "warnings.filterwarnings(action='ignore', category=DataConversionWarning)\n",
    "warnings.filterwarnings(action='ignore', category=SettingWithCopyWarning)"
   ]
  },
  {
   "cell_type": "code",
   "execution_count": 87,
   "id": "a4dc7cd5",
   "metadata": {},
   "outputs": [],
   "source": [
    "from sklearn.model_selection import train_test_split\n",
    "from sklearn.pipeline import Pipeline\n",
    "from sklearn.preprocessing import StandardScaler\n",
    "from sklearn.preprocessing import FunctionTransformer\n",
    "from sklearn.impute import SimpleImputer\n",
    "from sklearn.preprocessing import OneHotEncoder\n",
    "from sklearn.preprocessing import OrdinalEncoder\n",
    "from sklearn.compose import ColumnTransformer\n",
    "from sklearn.metrics import mean_squared_error, r2_score\n",
    "from sklearn.model_selection import cross_val_score\n",
    "from sklearn.ensemble import GradientBoostingRegressor\n",
    "from sklearn.ensemble import RandomForestRegressor\n",
    "from time import time"
   ]
  },
  {
   "cell_type": "code",
   "execution_count": 88,
   "id": "f937bf02",
   "metadata": {},
   "outputs": [],
   "source": [
    "import shapefile\n",
    "from shapely.geometry import Polygon\n",
    "from descartes.patch import PolygonPatch\n",
    "import seaborn as sns\n",
    "import matplotlib as mpl\n",
    "import matplotlib.pyplot as plt\n",
    "%matplotlib inline"
   ]
  },
  {
   "cell_type": "code",
   "execution_count": 89,
   "id": "d0fd926b",
   "metadata": {},
   "outputs": [],
   "source": [
    "YEARS = [2022, 2021, 2020, 2019]"
   ]
  },
  {
   "cell_type": "code",
   "execution_count": 90,
   "id": "3d36087b",
   "metadata": {},
   "outputs": [
    {
     "data": {
      "application/vnd.jupyter.widget-view+json": {
       "model_id": "7ddeb0cc1d0845029abedcc52a982c78",
       "version_major": 2,
       "version_minor": 0
      },
      "text/plain": [
       "  0%|          | 0/4 [00:00<?, ?it/s]"
      ]
     },
     "metadata": {},
     "output_type": "display_data"
    },
    {
     "data": {
      "application/vnd.jupyter.widget-view+json": {
       "model_id": "e4e436a107304c2cbcfa88c484304a0c",
       "version_major": 2,
       "version_minor": 0
      },
      "text/plain": [
       "  0%|          | 0/12 [00:00<?, ?it/s]"
      ]
     },
     "metadata": {},
     "output_type": "display_data"
    },
    {
     "data": {
      "application/vnd.jupyter.widget-view+json": {
       "model_id": "860ecc56e03f4038b82116f5a4d036a2",
       "version_major": 2,
       "version_minor": 0
      },
      "text/plain": [
       "  0%|          | 0/12 [00:00<?, ?it/s]"
      ]
     },
     "metadata": {},
     "output_type": "display_data"
    },
    {
     "data": {
      "application/vnd.jupyter.widget-view+json": {
       "model_id": "6e8392120bc84e6285a7df5cbaaa9147",
       "version_major": 2,
       "version_minor": 0
      },
      "text/plain": [
       "  0%|          | 0/12 [00:00<?, ?it/s]"
      ]
     },
     "metadata": {},
     "output_type": "display_data"
    },
    {
     "data": {
      "application/vnd.jupyter.widget-view+json": {
       "model_id": "8b30b80fbbf642af8de769dc9bfff297",
       "version_major": 2,
       "version_minor": 0
      },
      "text/plain": [
       "  0%|          | 0/12 [00:00<?, ?it/s]"
      ]
     },
     "metadata": {},
     "output_type": "display_data"
    },
    {
     "name": "stdout",
     "output_type": "stream",
     "text": [
      "Gener 2019 Not available INFO\n",
      "Gener 2019 Not available\n",
      "Febrer 2019 Not available INFO\n",
      "Febrer 2019 Not available\n"
     ]
    }
   ],
   "source": [
    "import os\n",
    "\n",
    "i2m = list(zip(range(1,13), ['Gener','Febrer','Marc','Abril','Maig','Juny','Juliol','Agost','Setembre','Octubre','Novembre','Desembre']))\n",
    "for year in tqdm(YEARS):\n",
    "    if not os.path.exists(f'data/{year}'):\n",
    "        os.makedirs(f'data/{year}', exist_ok=True)\n",
    "    for month, month_name in tqdm(i2m):\n",
    "        if not os.path.exists(f'data/{year}/{month:02d}'):\n",
    "            os.makedirs(f'data/{year}/{month:02d}', exist_ok=True)\n",
    "        if not os.path.exists(f'data/{year}/{month:02d}/{month:02d}_INFO.7z'):\n",
    "            try:\n",
    "                urllib.request.urlretrieve(f'https://opendata-ajuntament.barcelona.cat/resources/bcn/BicingBCN/{year}_{month:02d}_{month_name}_BicingNou_INFORMACIO.7z', f'data/{year}/{month:02d}/{month:02d}_INFO.7z')\n",
    "            except:\n",
    "                print(month_name, year, 'Not available INFO')\n",
    "                \n",
    "        if not os.path.exists(f'data/{year}/{month:02d}/{month:02d}.7z'):\n",
    "            try:\n",
    "                urllib.request.urlretrieve(f'https://opendata-ajuntament.barcelona.cat/resources/bcn/BicingBCN/{year}_{month:02d}_{month_name}_BicingNou_ESTACIONS.7z', f'data/{year}/{month:02d}/{month:02d}.7z')\n",
    "            except:\n",
    "                print(month_name, year, 'Not available')"
   ]
  },
  {
   "cell_type": "code",
   "execution_count": 91,
   "id": "f16f4d40",
   "metadata": {},
   "outputs": [],
   "source": [
    "columns_info = ['station_id', 'name', 'physical_configuration', 'lat', 'lon', 'altitude', 'address', 'post_code', 'capacity', 'is_charging_station','nearby_distance', 'cross_street', 'last_updated','ttl']"
   ]
  },
  {
   "cell_type": "code",
   "execution_count": 92,
   "id": "41ce3bf3",
   "metadata": {},
   "outputs": [],
   "source": [
    "def load_information(year, month):\n",
    "    \"\"\"\n",
    "    Function that reads the downloaded data and converts it to a DataFrame\n",
    "    \"\"\"\n",
    "    if year==2019:\n",
    "        if month==6:\n",
    "            path = f'data/{year}/{month:02d}/{year}_{month:02d}_{i2m[month-1][1]}_NouBicing_INFORMACIO.csv'\n",
    "        elif month<7:\n",
    "            path = f'data/{year}/{month:02d}/{year}_{month:02d}_{i2m[month-1][1]}_BICING2_INFO.csv'\n",
    "        else:\n",
    "            path = f'data/{year}/{month:02d}/{year}_{month:02d}_{i2m[month-1][1]}_BicingNou_INFORMACIO.csv'\n",
    "    else:\n",
    "        path = f'data/{year}/{month:02d}/{year}_{month:02d}_{i2m[month-1][1]}_BicingNou_INFORMACIO.csv'\n",
    "    \n",
    "    try:\n",
    "        if not os.path.exists(path):\n",
    "            z = py7zr.SevenZipFile(f'data/{year}/{month:02d}/{month:02d}_INFO.7z', 'r')\n",
    "            z.extractall(path=f'data/{year}/{month:02d}/')\n",
    "    except:\n",
    "        print('No such file or directory: ',f'{year}_{month:02d}_{i2m[month-1][1]}_BicingNou_INFORMACIO.csv')\n",
    "        return []\n",
    "        \n",
    "    try:\n",
    "        if month==3:\n",
    "            if year==2019:\n",
    "                os.rename(f'data/{year}/{month:02d}/{year}_{month:02d}_Març_BICING2_INFO.csv',path)\n",
    "            else:\n",
    "                os.rename(f'data/{year}/{month:02d}/{year}_{month:02d}_Març_BicingNou_INFORMACIO.csv',path)\n",
    "    except:\n",
    "        print(f'The name of the file is with {i2m[month-1][1]}')\n",
    "    \n",
    "    try:\n",
    "        if (year*month==2022): # Gener 2022\n",
    "            df = pd.read_csv(path, encoding='utf8', encoding_errors='replace', usecols = [i for i in range(13)])\n",
    "        else:\n",
    "            df = pd.read_csv(path, encoding='utf8', encoding_errors='replace')\n",
    "        df = df.loc[:,df.columns.isin(columns_info)]\n",
    "        \n",
    "        return df\n",
    "    \n",
    "    except:\n",
    "        print(f'{month:02d}', year, 'information Not available')\n",
    "        \n",
    "\n"
   ]
  },
  {
   "cell_type": "code",
   "execution_count": 93,
   "id": "1cfad8c1",
   "metadata": {},
   "outputs": [],
   "source": [
    "def load_table(year, month):\n",
    "    \"\"\"\n",
    "    Function that reads the downloaded data and converts it to a DataFrame\n",
    "    \"\"\"\n",
    "    if year==2019:\n",
    "        if month==6:\n",
    "            path = f'data/{year}/{month:02d}/{year}_{month:02d}_{i2m[month-1][1]}_NouBicing_ESTACIONS.csv'\n",
    "        elif month<7:\n",
    "            path = f'data/{year}/{month:02d}/{year}_{month:02d}_{i2m[month-1][1]}_BICING2_STAT.csv'\n",
    "        else:\n",
    "            path = f'data/{year}/{month:02d}/{year}_{month:02d}_{i2m[month-1][1]}_BicingNou_ESTACIONS.csv'\n",
    "    else:\n",
    "        path = f'data/{year}/{month:02d}/{year}_{month:02d}_{i2m[month-1][1]}_BicingNou_ESTACIONS.csv'\n",
    "        \n",
    "    try:\n",
    "        if not os.path.exists(path):\n",
    "            z = py7zr.SevenZipFile(f'data/{year}/{month:02d}/{month:02d}.7z', 'r')\n",
    "            z.extractall(path=f'data/{year}/{month:02d}/')\n",
    "    except:\n",
    "        print(f'The name of the file is {year}_{month:02d}_{i2m[month-1][1]}_BicingNou_ESTACIONS.csv')\n",
    "        return []\n",
    "        \n",
    "        \n",
    "    try:\n",
    "        if month==3:\n",
    "            if year==2019:\n",
    "                os.rename(f'data/{year}/{month:02d}/{year}_{month:02d}_Març_BICING2_STAT.csv',path)\n",
    "            else:\n",
    "                os.rename(f'data/{year}/{month:02d}/{year}_{month:02d}_Març_BicingNou_ESTACIONS.csv',path)\n",
    "    except:\n",
    "        print(f'The name of the file is with {i2m[month-1][1]}')\n",
    "    \n",
    "    try:\n",
    "        df = pd.read_csv(path)\n",
    "        return df\n",
    "    except:\n",
    "        print(f'{month:02d}', year, 'dataset Not available')\n",
    "\n"
   ]
  },
  {
   "cell_type": "code",
   "execution_count": 94,
   "id": "20cdcf61",
   "metadata": {},
   "outputs": [],
   "source": [
    "def clean_data(data, year, month, df_name , sampling = 10000):\n",
    "    \"\"\"\n",
    "    Function that clears the month data.\n",
    "    \"\"\"\n",
    "    if len(data)>0:\n",
    "        data = data[::sampling]\n",
    "        data[\"last_updated\"] = [datetime.datetime.fromtimestamp(t).strftime('%Y-%m-%d %H:%M:%S') for t in data.last_updated]\n",
    "        data[\"day\"]=[datetime.datetime.strptime(t, '%Y-%m-%d %H:%M:%S').day for t in data.last_updated]\n",
    "        data[\"month\"]=[datetime.datetime.strptime(t, '%Y-%m-%d %H:%M:%S').month for t in data.last_updated]\n",
    "        data[\"year\"]=[datetime.datetime.strptime(t, '%Y-%m-%d %H:%M:%S').year for t in data.last_updated]\n",
    "        if df_name!=\"info\":\n",
    "            data[\"last_reported\"] = [datetime.datetime.fromtimestamp(t).strftime('%Y-%m-%d %H:%M:%S') for t in data.last_reported]\n",
    "\n",
    "        return data\n",
    "    return;"
   ]
  },
  {
   "cell_type": "code",
   "execution_count": 95,
   "id": "1d9ed8c2",
   "metadata": {
    "scrolled": false
   },
   "outputs": [
    {
     "data": {
      "application/vnd.jupyter.widget-view+json": {
       "model_id": "060496c134d24d5fa41e8e7546ea6869",
       "version_major": 2,
       "version_minor": 0
      },
      "text/plain": [
       "  0%|          | 0/4 [00:00<?, ?it/s]"
      ]
     },
     "metadata": {},
     "output_type": "display_data"
    },
    {
     "data": {
      "application/vnd.jupyter.widget-view+json": {
       "model_id": "",
       "version_major": 2,
       "version_minor": 0
      },
      "text/plain": [
       "  0%|          | 0/12 [00:00<?, ?it/s]"
      ]
     },
     "metadata": {},
     "output_type": "display_data"
    },
    {
     "name": "stderr",
     "output_type": "stream",
     "text": [
      "C:\\Users\\Anderson\\AppData\\Local\\Temp\\ipykernel_2244\\1989734563.py:36: DtypeWarning: Columns (13) have mixed types. Specify dtype option on import or set low_memory=False.\n",
      "  df = pd.read_csv(path, encoding='utf8', encoding_errors='replace')\n",
      "C:\\Users\\Anderson\\AppData\\Local\\Temp\\ipykernel_2244\\1989734563.py:36: DtypeWarning: Columns (14) have mixed types. Specify dtype option on import or set low_memory=False.\n",
      "  df = pd.read_csv(path, encoding='utf8', encoding_errors='replace')\n"
     ]
    },
    {
     "data": {
      "application/vnd.jupyter.widget-view+json": {
       "model_id": "",
       "version_major": 2,
       "version_minor": 0
      },
      "text/plain": [
       "  0%|          | 0/12 [00:00<?, ?it/s]"
      ]
     },
     "metadata": {},
     "output_type": "display_data"
    },
    {
     "data": {
      "application/vnd.jupyter.widget-view+json": {
       "model_id": "",
       "version_major": 2,
       "version_minor": 0
      },
      "text/plain": [
       "  0%|          | 0/12 [00:00<?, ?it/s]"
      ]
     },
     "metadata": {},
     "output_type": "display_data"
    },
    {
     "name": "stderr",
     "output_type": "stream",
     "text": [
      "C:\\Users\\Anderson\\AppData\\Local\\Temp\\ipykernel_2244\\1989734563.py:36: DtypeWarning: Columns (13) have mixed types. Specify dtype option on import or set low_memory=False.\n",
      "  df = pd.read_csv(path, encoding='utf8', encoding_errors='replace')\n"
     ]
    },
    {
     "name": "stdout",
     "output_type": "stream",
     "text": [
      "The name of the file is with Marc\n"
     ]
    },
    {
     "data": {
      "application/vnd.jupyter.widget-view+json": {
       "model_id": "",
       "version_major": 2,
       "version_minor": 0
      },
      "text/plain": [
       "  0%|          | 0/12 [00:00<?, ?it/s]"
      ]
     },
     "metadata": {},
     "output_type": "display_data"
    },
    {
     "name": "stdout",
     "output_type": "stream",
     "text": [
      "No such file or directory:  2019_01_Gener_BicingNou_INFORMACIO.csv\n",
      "No such file or directory:  2019_02_Febrer_BicingNou_INFORMACIO.csv\n"
     ]
    },
    {
     "name": "stderr",
     "output_type": "stream",
     "text": [
      "C:\\Users\\Anderson\\AppData\\Local\\Temp\\ipykernel_2244\\1989734563.py:36: DtypeWarning: Columns (5) have mixed types. Specify dtype option on import or set low_memory=False.\n",
      "  df = pd.read_csv(path, encoding='utf8', encoding_errors='replace')\n",
      "C:\\Users\\Anderson\\AppData\\Local\\Temp\\ipykernel_2244\\1989734563.py:36: DtypeWarning: Columns (7,11) have mixed types. Specify dtype option on import or set low_memory=False.\n",
      "  df = pd.read_csv(path, encoding='utf8', encoding_errors='replace')\n"
     ]
    }
   ],
   "source": [
    "data_info = pd.concat([clean_data(load_information(year, month),year,month,\"info\") for year in tqdm(YEARS) for month in tqdm(range(1, 13), leave = False)])"
   ]
  },
  {
   "cell_type": "code",
   "execution_count": 96,
   "id": "ff9f9f3a",
   "metadata": {},
   "outputs": [
    {
     "data": {
      "application/vnd.jupyter.widget-view+json": {
       "model_id": "f03875bb998b417f9caef6fc3e394aaa",
       "version_major": 2,
       "version_minor": 0
      },
      "text/plain": [
       "  0%|          | 0/4 [00:00<?, ?it/s]"
      ]
     },
     "metadata": {},
     "output_type": "display_data"
    },
    {
     "data": {
      "application/vnd.jupyter.widget-view+json": {
       "model_id": "",
       "version_major": 2,
       "version_minor": 0
      },
      "text/plain": [
       "  0%|          | 0/12 [00:00<?, ?it/s]"
      ]
     },
     "metadata": {},
     "output_type": "display_data"
    },
    {
     "data": {
      "application/vnd.jupyter.widget-view+json": {
       "model_id": "",
       "version_major": 2,
       "version_minor": 0
      },
      "text/plain": [
       "  0%|          | 0/12 [00:00<?, ?it/s]"
      ]
     },
     "metadata": {},
     "output_type": "display_data"
    },
    {
     "data": {
      "application/vnd.jupyter.widget-view+json": {
       "model_id": "",
       "version_major": 2,
       "version_minor": 0
      },
      "text/plain": [
       "  0%|          | 0/12 [00:00<?, ?it/s]"
      ]
     },
     "metadata": {},
     "output_type": "display_data"
    },
    {
     "name": "stdout",
     "output_type": "stream",
     "text": [
      "The name of the file is with Marc\n"
     ]
    },
    {
     "data": {
      "application/vnd.jupyter.widget-view+json": {
       "model_id": "",
       "version_major": 2,
       "version_minor": 0
      },
      "text/plain": [
       "  0%|          | 0/12 [00:00<?, ?it/s]"
      ]
     },
     "metadata": {},
     "output_type": "display_data"
    },
    {
     "name": "stdout",
     "output_type": "stream",
     "text": [
      "The name of the file is 2019_01_Gener_BicingNou_ESTACIONS.csv\n",
      "The name of the file is 2019_02_Febrer_BicingNou_ESTACIONS.csv\n"
     ]
    }
   ],
   "source": [
    "data = pd.concat([clean_data(load_table(year, month),year,month,\"data\") for year in tqdm(YEARS) for month in tqdm(range(1, 13), leave = False)])"
   ]
  },
  {
   "cell_type": "code",
   "execution_count": 97,
   "id": "9cbc815c",
   "metadata": {},
   "outputs": [
    {
     "data": {
      "text/plain": [
       "station_id                                  0\n",
       "num_bikes_available                         0\n",
       "num_bikes_available_types.mechanical        0\n",
       "num_bikes_available_types.ebike             0\n",
       "num_docks_available                         0\n",
       "last_reported                               0\n",
       "is_charging_station                         0\n",
       "status                                      0\n",
       "is_installed                                0\n",
       "is_renting                                  0\n",
       "is_returning                                0\n",
       "traffic                                 18276\n",
       "last_updated                                0\n",
       "ttl                                         0\n",
       "day                                         0\n",
       "month                                       0\n",
       "year                                        0\n",
       "dtype: int64"
      ]
     },
     "execution_count": 97,
     "metadata": {},
     "output_type": "execute_result"
    }
   ],
   "source": [
    "data.isna().sum()"
   ]
  },
  {
   "cell_type": "code",
   "execution_count": 98,
   "id": "da51e618",
   "metadata": {},
   "outputs": [
    {
     "data": {
      "text/plain": [
       "station_id                    0\n",
       "name                          0\n",
       "physical_configuration        0\n",
       "lat                           0\n",
       "lon                           0\n",
       "altitude                      0\n",
       "address                       0\n",
       "post_code                     0\n",
       "capacity                      0\n",
       "nearby_distance            2243\n",
       "cross_street              18044\n",
       "last_updated                  0\n",
       "ttl                           0\n",
       "day                           0\n",
       "month                         0\n",
       "year                          0\n",
       "is_charging_station       14352\n",
       "dtype: int64"
      ]
     },
     "execution_count": 98,
     "metadata": {},
     "output_type": "execute_result"
    }
   ],
   "source": [
    "data_info.isna().sum()"
   ]
  },
  {
   "cell_type": "code",
   "execution_count": 105,
   "id": "6eb102a9",
   "metadata": {},
   "outputs": [
    {
     "data": {
      "text/html": [
       "<div>\n",
       "<style scoped>\n",
       "    .dataframe tbody tr th:only-of-type {\n",
       "        vertical-align: middle;\n",
       "    }\n",
       "\n",
       "    .dataframe tbody tr th {\n",
       "        vertical-align: top;\n",
       "    }\n",
       "\n",
       "    .dataframe thead th {\n",
       "        text-align: right;\n",
       "    }\n",
       "</style>\n",
       "<table border=\"1\" class=\"dataframe\">\n",
       "  <thead>\n",
       "    <tr style=\"text-align: right;\">\n",
       "      <th></th>\n",
       "      <th>station_id</th>\n",
       "      <th>num_bikes_available</th>\n",
       "      <th>num_bikes_available_types.mechanical</th>\n",
       "      <th>num_bikes_available_types.ebike</th>\n",
       "      <th>num_docks_available</th>\n",
       "      <th>last_reported</th>\n",
       "      <th>is_charging_station</th>\n",
       "      <th>status</th>\n",
       "      <th>is_installed</th>\n",
       "      <th>is_renting</th>\n",
       "      <th>is_returning</th>\n",
       "      <th>traffic</th>\n",
       "      <th>last_updated</th>\n",
       "      <th>ttl</th>\n",
       "      <th>day</th>\n",
       "      <th>month</th>\n",
       "      <th>year</th>\n",
       "    </tr>\n",
       "  </thead>\n",
       "  <tbody>\n",
       "    <tr>\n",
       "      <th>0</th>\n",
       "      <td>1</td>\n",
       "      <td>18</td>\n",
       "      <td>12</td>\n",
       "      <td>6</td>\n",
       "      <td>28</td>\n",
       "      <td>2021-12-31 23:58:25</td>\n",
       "      <td>True</td>\n",
       "      <td>IN_SERVICE</td>\n",
       "      <td>1</td>\n",
       "      <td>1</td>\n",
       "      <td>1</td>\n",
       "      <td>NaN</td>\n",
       "      <td>2021-12-31 23:59:55</td>\n",
       "      <td>18</td>\n",
       "      <td>31</td>\n",
       "      <td>12</td>\n",
       "      <td>2021</td>\n",
       "    </tr>\n",
       "    <tr>\n",
       "      <th>10000</th>\n",
       "      <td>357</td>\n",
       "      <td>6</td>\n",
       "      <td>0</td>\n",
       "      <td>6</td>\n",
       "      <td>20</td>\n",
       "      <td>2022-01-01 01:32:15</td>\n",
       "      <td>True</td>\n",
       "      <td>IN_SERVICE</td>\n",
       "      <td>1</td>\n",
       "      <td>1</td>\n",
       "      <td>1</td>\n",
       "      <td>NaN</td>\n",
       "      <td>2022-01-01 01:34:48</td>\n",
       "      <td>12</td>\n",
       "      <td>1</td>\n",
       "      <td>1</td>\n",
       "      <td>2022</td>\n",
       "    </tr>\n",
       "    <tr>\n",
       "      <th>20000</th>\n",
       "      <td>197</td>\n",
       "      <td>7</td>\n",
       "      <td>0</td>\n",
       "      <td>7</td>\n",
       "      <td>19</td>\n",
       "      <td>2022-01-01 03:13:31</td>\n",
       "      <td>True</td>\n",
       "      <td>IN_SERVICE</td>\n",
       "      <td>1</td>\n",
       "      <td>1</td>\n",
       "      <td>1</td>\n",
       "      <td>NaN</td>\n",
       "      <td>2022-01-01 03:14:53</td>\n",
       "      <td>17</td>\n",
       "      <td>1</td>\n",
       "      <td>1</td>\n",
       "      <td>2022</td>\n",
       "    </tr>\n",
       "    <tr>\n",
       "      <th>30000</th>\n",
       "      <td>30</td>\n",
       "      <td>23</td>\n",
       "      <td>19</td>\n",
       "      <td>4</td>\n",
       "      <td>5</td>\n",
       "      <td>2022-01-01 04:52:59</td>\n",
       "      <td>True</td>\n",
       "      <td>IN_SERVICE</td>\n",
       "      <td>1</td>\n",
       "      <td>1</td>\n",
       "      <td>1</td>\n",
       "      <td>NaN</td>\n",
       "      <td>2022-01-01 04:54:55</td>\n",
       "      <td>19</td>\n",
       "      <td>1</td>\n",
       "      <td>1</td>\n",
       "      <td>2022</td>\n",
       "    </tr>\n",
       "    <tr>\n",
       "      <th>40000</th>\n",
       "      <td>385</td>\n",
       "      <td>9</td>\n",
       "      <td>9</td>\n",
       "      <td>0</td>\n",
       "      <td>21</td>\n",
       "      <td>2022-01-01 06:26:57</td>\n",
       "      <td>True</td>\n",
       "      <td>IN_SERVICE</td>\n",
       "      <td>1</td>\n",
       "      <td>1</td>\n",
       "      <td>1</td>\n",
       "      <td>NaN</td>\n",
       "      <td>2022-01-01 06:30:04</td>\n",
       "      <td>28</td>\n",
       "      <td>1</td>\n",
       "      <td>1</td>\n",
       "      <td>2022</td>\n",
       "    </tr>\n",
       "  </tbody>\n",
       "</table>\n",
       "</div>"
      ],
      "text/plain": [
       "       station_id  num_bikes_available  num_bikes_available_types.mechanical  \\\n",
       "0               1                   18                                    12   \n",
       "10000         357                    6                                     0   \n",
       "20000         197                    7                                     0   \n",
       "30000          30                   23                                    19   \n",
       "40000         385                    9                                     9   \n",
       "\n",
       "       num_bikes_available_types.ebike  num_docks_available  \\\n",
       "0                                    6                   28   \n",
       "10000                                6                   20   \n",
       "20000                                7                   19   \n",
       "30000                                4                    5   \n",
       "40000                                0                   21   \n",
       "\n",
       "             last_reported  is_charging_station      status  is_installed  \\\n",
       "0      2021-12-31 23:58:25                 True  IN_SERVICE             1   \n",
       "10000  2022-01-01 01:32:15                 True  IN_SERVICE             1   \n",
       "20000  2022-01-01 03:13:31                 True  IN_SERVICE             1   \n",
       "30000  2022-01-01 04:52:59                 True  IN_SERVICE             1   \n",
       "40000  2022-01-01 06:26:57                 True  IN_SERVICE             1   \n",
       "\n",
       "       is_renting  is_returning  traffic         last_updated  ttl  day  \\\n",
       "0               1             1      NaN  2021-12-31 23:59:55   18   31   \n",
       "10000           1             1      NaN  2022-01-01 01:34:48   12    1   \n",
       "20000           1             1      NaN  2022-01-01 03:14:53   17    1   \n",
       "30000           1             1      NaN  2022-01-01 04:54:55   19    1   \n",
       "40000           1             1      NaN  2022-01-01 06:30:04   28    1   \n",
       "\n",
       "       month  year  \n",
       "0         12  2021  \n",
       "10000      1  2022  \n",
       "20000      1  2022  \n",
       "30000      1  2022  \n",
       "40000      1  2022  "
      ]
     },
     "execution_count": 105,
     "metadata": {},
     "output_type": "execute_result"
    }
   ],
   "source": [
    "# data.groupby([\"year\",\"month\"]).count()\n",
    "data.head()"
   ]
  },
  {
   "cell_type": "code",
   "execution_count": 104,
   "id": "d163a239",
   "metadata": {},
   "outputs": [
    {
     "data": {
      "text/html": [
       "<div>\n",
       "<style scoped>\n",
       "    .dataframe tbody tr th:only-of-type {\n",
       "        vertical-align: middle;\n",
       "    }\n",
       "\n",
       "    .dataframe tbody tr th {\n",
       "        vertical-align: top;\n",
       "    }\n",
       "\n",
       "    .dataframe thead th {\n",
       "        text-align: right;\n",
       "    }\n",
       "</style>\n",
       "<table border=\"1\" class=\"dataframe\">\n",
       "  <thead>\n",
       "    <tr style=\"text-align: right;\">\n",
       "      <th></th>\n",
       "      <th>station_id</th>\n",
       "      <th>name</th>\n",
       "      <th>physical_configuration</th>\n",
       "      <th>lat</th>\n",
       "      <th>lon</th>\n",
       "      <th>altitude</th>\n",
       "      <th>address</th>\n",
       "      <th>post_code</th>\n",
       "      <th>capacity</th>\n",
       "      <th>nearby_distance</th>\n",
       "      <th>cross_street</th>\n",
       "      <th>last_updated</th>\n",
       "      <th>ttl</th>\n",
       "      <th>day</th>\n",
       "      <th>month</th>\n",
       "      <th>year</th>\n",
       "      <th>is_charging_station</th>\n",
       "    </tr>\n",
       "  </thead>\n",
       "  <tbody>\n",
       "    <tr>\n",
       "      <th>0</th>\n",
       "      <td>1.0</td>\n",
       "      <td>GRAN VIA CORTS CATALANES, 760</td>\n",
       "      <td>ELECTRICBIKESTATION</td>\n",
       "      <td>41.397978</td>\n",
       "      <td>2.180107</td>\n",
       "      <td>16.0</td>\n",
       "      <td>GRAN VIA CORTS CATALANES, 760</td>\n",
       "      <td>8013.0</td>\n",
       "      <td>46.0</td>\n",
       "      <td>1000.0</td>\n",
       "      <td>NaN</td>\n",
       "      <td>2021-12-31 23:59:55</td>\n",
       "      <td>18.0</td>\n",
       "      <td>31</td>\n",
       "      <td>12</td>\n",
       "      <td>2021</td>\n",
       "      <td>NaN</td>\n",
       "    </tr>\n",
       "    <tr>\n",
       "      <th>10000</th>\n",
       "      <td>357.0</td>\n",
       "      <td>C/ CARDENER, 59</td>\n",
       "      <td>ELECTRICBIKESTATION</td>\n",
       "      <td>41.410596</td>\n",
       "      <td>2.157990</td>\n",
       "      <td>87.0</td>\n",
       "      <td>C/ CARDENER, 59</td>\n",
       "      <td>8024.0</td>\n",
       "      <td>27.0</td>\n",
       "      <td>1000.0</td>\n",
       "      <td>NaN</td>\n",
       "      <td>2022-01-01 01:34:42</td>\n",
       "      <td>6.0</td>\n",
       "      <td>1</td>\n",
       "      <td>1</td>\n",
       "      <td>2022</td>\n",
       "      <td>NaN</td>\n",
       "    </tr>\n",
       "    <tr>\n",
       "      <th>20000</th>\n",
       "      <td>197.0</td>\n",
       "      <td>C/ GELABERT, 1</td>\n",
       "      <td>ELECTRICBIKESTATION</td>\n",
       "      <td>41.387158</td>\n",
       "      <td>2.141094</td>\n",
       "      <td>47.0</td>\n",
       "      <td>C/ GELABERT, 1</td>\n",
       "      <td>8029.0</td>\n",
       "      <td>27.0</td>\n",
       "      <td>1000.0</td>\n",
       "      <td>NaN</td>\n",
       "      <td>2022-01-01 03:15:10</td>\n",
       "      <td>30.0</td>\n",
       "      <td>1</td>\n",
       "      <td>1</td>\n",
       "      <td>2022</td>\n",
       "      <td>NaN</td>\n",
       "    </tr>\n",
       "    <tr>\n",
       "      <th>30000</th>\n",
       "      <td>30.0</td>\n",
       "      <td>AV. DIAGONAL, 231 AMB PADILLA</td>\n",
       "      <td>ELECTRICBIKESTATION</td>\n",
       "      <td>41.402181</td>\n",
       "      <td>2.182989</td>\n",
       "      <td>13.0</td>\n",
       "      <td>AV. DIAGONAL, 231 AMB PADILLA</td>\n",
       "      <td>8013.0</td>\n",
       "      <td>29.0</td>\n",
       "      <td>1000.0</td>\n",
       "      <td>NaN</td>\n",
       "      <td>2022-01-01 04:54:54</td>\n",
       "      <td>18.0</td>\n",
       "      <td>1</td>\n",
       "      <td>1</td>\n",
       "      <td>2022</td>\n",
       "      <td>NaN</td>\n",
       "    </tr>\n",
       "    <tr>\n",
       "      <th>40000</th>\n",
       "      <td>385.0</td>\n",
       "      <td>C/ CASANOVA, 119</td>\n",
       "      <td>ELECTRICBIKESTATION</td>\n",
       "      <td>41.387888</td>\n",
       "      <td>2.155290</td>\n",
       "      <td>30.0</td>\n",
       "      <td>C/ CASANOVA, 119</td>\n",
       "      <td>8036.0</td>\n",
       "      <td>30.0</td>\n",
       "      <td>1000.0</td>\n",
       "      <td>NaN</td>\n",
       "      <td>2022-01-01 06:29:37</td>\n",
       "      <td>1.0</td>\n",
       "      <td>1</td>\n",
       "      <td>1</td>\n",
       "      <td>2022</td>\n",
       "      <td>NaN</td>\n",
       "    </tr>\n",
       "  </tbody>\n",
       "</table>\n",
       "</div>"
      ],
      "text/plain": [
       "       station_id                           name physical_configuration  \\\n",
       "0             1.0  GRAN VIA CORTS CATALANES, 760    ELECTRICBIKESTATION   \n",
       "10000       357.0                C/ CARDENER, 59    ELECTRICBIKESTATION   \n",
       "20000       197.0                 C/ GELABERT, 1    ELECTRICBIKESTATION   \n",
       "30000        30.0  AV. DIAGONAL, 231 AMB PADILLA    ELECTRICBIKESTATION   \n",
       "40000       385.0               C/ CASANOVA, 119    ELECTRICBIKESTATION   \n",
       "\n",
       "             lat       lon altitude                        address post_code  \\\n",
       "0      41.397978  2.180107     16.0  GRAN VIA CORTS CATALANES, 760    8013.0   \n",
       "10000  41.410596  2.157990     87.0                C/ CARDENER, 59    8024.0   \n",
       "20000  41.387158  2.141094     47.0                 C/ GELABERT, 1    8029.0   \n",
       "30000  41.402181  2.182989     13.0  AV. DIAGONAL, 231 AMB PADILLA    8013.0   \n",
       "40000  41.387888  2.155290     30.0               C/ CASANOVA, 119    8036.0   \n",
       "\n",
       "       capacity  nearby_distance cross_street         last_updated   ttl  day  \\\n",
       "0          46.0           1000.0          NaN  2021-12-31 23:59:55  18.0   31   \n",
       "10000      27.0           1000.0          NaN  2022-01-01 01:34:42   6.0    1   \n",
       "20000      27.0           1000.0          NaN  2022-01-01 03:15:10  30.0    1   \n",
       "30000      29.0           1000.0          NaN  2022-01-01 04:54:54  18.0    1   \n",
       "40000      30.0           1000.0          NaN  2022-01-01 06:29:37   1.0    1   \n",
       "\n",
       "       month  year is_charging_station  \n",
       "0         12  2021                 NaN  \n",
       "10000      1  2022                 NaN  \n",
       "20000      1  2022                 NaN  \n",
       "30000      1  2022                 NaN  \n",
       "40000      1  2022                 NaN  "
      ]
     },
     "execution_count": 104,
     "metadata": {},
     "output_type": "execute_result"
    }
   ],
   "source": [
    "# data_info.groupby([\"year\",\"month\"]).count()\n",
    "data_info.head()"
   ]
  }
 ],
 "metadata": {
  "kernelspec": {
   "display_name": "Python 3 (ipykernel)",
   "language": "python",
   "name": "python3"
  },
  "language_info": {
   "codemirror_mode": {
    "name": "ipython",
    "version": 3
   },
   "file_extension": ".py",
   "mimetype": "text/x-python",
   "name": "python",
   "nbconvert_exporter": "python",
   "pygments_lexer": "ipython3",
   "version": "3.9.12"
  }
 },
 "nbformat": 4,
 "nbformat_minor": 5
}
