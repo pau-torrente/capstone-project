{
 "cells": [
  {
   "cell_type": "markdown",
   "id": "878d83bc",
   "metadata": {},
   "source": [
    "##  Bike Availability Prediction\n",
    "\n",
    "1. last_updated : Timestamp of the file\n",
    "2. ttl : TimeToLive of the response\n",
    "3. data : Station information array container\n",
    "    * station_id : Station identifier\n",
    "    * num_bikes_available : Number of bikes available\n",
    "    * num_bikes_available_types: Array of available bike types\n",
    "    * mechanical : Number of mechanical bicycles available\n",
    "    * ebike: Number of electric bikes available\n",
    "    * num_docks_available: Number of available docks\n",
    "    * is_installed: The station is correctly installed (0-NO,1-YES)\n",
    "    * is_renting: Station is successfully providing bikes\n",
    "    * is_returning: The station is successfully docking bikes\n",
    "    * last_reported: Timestamp of station information\n",
    "    * is_charging_station: The station has electric bike charging capacity\n",
    "    * status: Status of the station (IN_SERVICE=In service, CLOSED=Closed)"
   ]
  },
  {
   "cell_type": "raw",
   "id": "c8499a5c",
   "metadata": {},
   "source": [
    "! pip install pyarrow\n",
    "! pip install pyshp\n",
    "! pip install shapely\n",
    "! pip install descartes\n",
    "! pip install py7zr"
   ]
  },
  {
   "cell_type": "code",
   "execution_count": 1,
   "id": "d4197166",
   "metadata": {},
   "outputs": [
    {
     "name": "stderr",
     "output_type": "stream",
     "text": [
      "<frozen importlib._bootstrap>:228: RuntimeWarning: scipy._lib.messagestream.MessageStream size changed, may indicate binary incompatibility. Expected 56 from C header, got 64 from PyObject\n"
     ]
    },
    {
     "ename": "ModuleNotFoundError",
     "evalue": "No module named 'py7zr'",
     "output_type": "error",
     "traceback": [
      "\u001b[1;31m---------------------------------------------------------------------------\u001b[0m",
      "\u001b[1;31mModuleNotFoundError\u001b[0m                       Traceback (most recent call last)",
      "\u001b[1;32m~\\AppData\\Local\\Temp\\ipykernel_14276\\344310700.py\u001b[0m in \u001b[0;36m<module>\u001b[1;34m\u001b[0m\n\u001b[0;32m     15\u001b[0m \u001b[1;32mfrom\u001b[0m \u001b[0mtqdm\u001b[0m\u001b[1;33m.\u001b[0m\u001b[0mnotebook\u001b[0m \u001b[1;32mimport\u001b[0m \u001b[0mtqdm\u001b[0m\u001b[1;33m\u001b[0m\u001b[1;33m\u001b[0m\u001b[0m\n\u001b[0;32m     16\u001b[0m \u001b[1;32mimport\u001b[0m \u001b[0mpyarrow\u001b[0m\u001b[1;33m.\u001b[0m\u001b[0mparquet\u001b[0m \u001b[1;32mas\u001b[0m \u001b[0mpq\u001b[0m\u001b[1;33m\u001b[0m\u001b[1;33m\u001b[0m\u001b[0m\n\u001b[1;32m---> 17\u001b[1;33m \u001b[1;32mimport\u001b[0m \u001b[0mpy7zr\u001b[0m\u001b[1;33m\u001b[0m\u001b[1;33m\u001b[0m\u001b[0m\n\u001b[0m\u001b[0;32m     18\u001b[0m \u001b[1;32mimport\u001b[0m \u001b[0mzipfile\u001b[0m\u001b[1;33m\u001b[0m\u001b[1;33m\u001b[0m\u001b[0m\n\u001b[0;32m     19\u001b[0m \u001b[1;32mfrom\u001b[0m \u001b[0mpathlib\u001b[0m \u001b[1;32mimport\u001b[0m \u001b[0mPath\u001b[0m\u001b[1;33m\u001b[0m\u001b[1;33m\u001b[0m\u001b[0m\n",
      "\u001b[1;31mModuleNotFoundError\u001b[0m: No module named 'py7zr'"
     ]
    }
   ],
   "source": [
    "# Import libraries\n",
    "# Python ≥3.5 is required\n",
    "import sys\n",
    "assert sys.version_info >= (3, 5)\n",
    "\n",
    "# Scikit-Learn ≥0.20 is required\n",
    "import sklearn\n",
    "assert sklearn.__version__ >= \"0.20\"\n",
    "\n",
    "import pandas as pd\n",
    "import numpy as np\n",
    "import urllib.request\n",
    "import zipfile\n",
    "import os\n",
    "from tqdm.notebook import tqdm\n",
    "import pyarrow.parquet as pq\n",
    "import py7zr\n",
    "import zipfile\n",
    "from pathlib import Path\n",
    "import datetime"
   ]
  },
  {
   "cell_type": "code",
   "execution_count": 86,
   "id": "0f0ba68a",
   "metadata": {},
   "outputs": [],
   "source": [
    "# Ignore useless warnings (see SciPy issue #5998)\n",
    "import warnings\n",
    "from sklearn.exceptions import DataConversionWarning\n",
    "from pandas.core.common import SettingWithCopyWarning\n",
    "# warnings.filterwarnings(action=\"ignore\", message=\"^internal gelsd\")\n",
    "warnings.filterwarnings(action='ignore', category=DataConversionWarning)\n",
    "warnings.filterwarnings(action='ignore', category=SettingWithCopyWarning)"
   ]
  },
  {
   "cell_type": "code",
   "execution_count": 87,
   "id": "a4dc7cd5",
   "metadata": {},
   "outputs": [],
   "source": [
    "from sklearn.model_selection import train_test_split\n",
    "from sklearn.pipeline import Pipeline\n",
    "from sklearn.preprocessing import StandardScaler\n",
    "from sklearn.preprocessing import FunctionTransformer\n",
    "from sklearn.impute import SimpleImputer\n",
    "from sklearn.preprocessing import OneHotEncoder\n",
    "from sklearn.preprocessing import OrdinalEncoder\n",
    "from sklearn.compose import ColumnTransformer\n",
    "from sklearn.metrics import mean_squared_error, r2_score\n",
    "from sklearn.model_selection import cross_val_score\n",
    "from sklearn.ensemble import GradientBoostingRegressor\n",
    "from sklearn.ensemble import RandomForestRegressor\n",
    "from time import time"
   ]
  },
  {
   "cell_type": "code",
   "execution_count": 88,
   "id": "f937bf02",
   "metadata": {},
   "outputs": [],
   "source": [
    "import shapefile\n",
    "from shapely.geometry import Polygon\n",
    "from descartes.patch import PolygonPatch\n",
    "import seaborn as sns\n",
    "import matplotlib as mpl\n",
    "import matplotlib.pyplot as plt\n",
    "%matplotlib inline"
   ]
  },
  {
   "cell_type": "code",
   "execution_count": 3,
   "id": "d0fd926b",
   "metadata": {},
   "outputs": [],
   "source": [
    "YEARS = [2022, 2021, 2020, 2019]"
   ]
  },
  {
   "cell_type": "code",
   "execution_count": 4,
   "id": "3d36087b",
   "metadata": {},
   "outputs": [
    {
     "data": {
      "application/vnd.jupyter.widget-view+json": {
       "model_id": "5bf689ca27bb434d98ff7bd4c3c689d8",
       "version_major": 2,
       "version_minor": 0
      },
      "text/plain": [
       "  0%|          | 0/4 [00:00<?, ?it/s]"
      ]
     },
     "metadata": {},
     "output_type": "display_data"
    },
    {
     "data": {
      "application/vnd.jupyter.widget-view+json": {
       "model_id": "3cba0b3c2f8843f98c82b44e94b0862c",
       "version_major": 2,
       "version_minor": 0
      },
      "text/plain": [
       "  0%|          | 0/12 [00:00<?, ?it/s]"
      ]
     },
     "metadata": {},
     "output_type": "display_data"
    },
    {
     "data": {
      "application/vnd.jupyter.widget-view+json": {
       "model_id": "a8e5395da3444657b2f1c963e025dd60",
       "version_major": 2,
       "version_minor": 0
      },
      "text/plain": [
       "  0%|          | 0/12 [00:00<?, ?it/s]"
      ]
     },
     "metadata": {},
     "output_type": "display_data"
    },
    {
     "data": {
      "application/vnd.jupyter.widget-view+json": {
       "model_id": "34aa65981b6b43eab382b8e9a6e039b7",
       "version_major": 2,
       "version_minor": 0
      },
      "text/plain": [
       "  0%|          | 0/12 [00:00<?, ?it/s]"
      ]
     },
     "metadata": {},
     "output_type": "display_data"
    },
    {
     "data": {
      "application/vnd.jupyter.widget-view+json": {
       "model_id": "ce18964276f9412ba2dd98aabbcd5894",
       "version_major": 2,
       "version_minor": 0
      },
      "text/plain": [
       "  0%|          | 0/12 [00:00<?, ?it/s]"
      ]
     },
     "metadata": {},
     "output_type": "display_data"
    },
    {
     "name": "stdout",
     "output_type": "stream",
     "text": [
      "Gener 2019 Not available INFO\n",
      "Gener 2019 Not available\n",
      "Febrer 2019 Not available INFO\n",
      "Febrer 2019 Not available\n"
     ]
    }
   ],
   "source": [
    "import os\n",
    "\n",
    "i2m = list(zip(range(1,13), ['Gener','Febrer','Marc','Abril','Maig','Juny','Juliol','Agost','Setembre','Octubre','Novembre','Desembre']))\n",
    "for year in tqdm(YEARS):\n",
    "    if not os.path.exists(f'data/{year}'):\n",
    "        os.makedirs(f'data/{year}', exist_ok=True)\n",
    "    for month, month_name in tqdm(i2m):\n",
    "        if not os.path.exists(f'data/{year}/{month:02d}'):\n",
    "            os.makedirs(f'data/{year}/{month:02d}', exist_ok=True)\n",
    "        if not os.path.exists(f'data/{year}/{month:02d}/{month:02d}_INFO.7z'):\n",
    "            try:\n",
    "                urllib.request.urlretrieve(f'https://opendata-ajuntament.barcelona.cat/resources/bcn/BicingBCN/{year}_{month:02d}_{month_name}_BicingNou_INFORMACIO.7z', f'data/{year}/{month:02d}/{month:02d}_INFO.7z')\n",
    "            except:\n",
    "                print(month_name, year, 'Not available INFO')\n",
    "                \n",
    "        if not os.path.exists(f'data/{year}/{month:02d}/{month:02d}.7z'):\n",
    "            try:\n",
    "                urllib.request.urlretrieve(f'https://opendata-ajuntament.barcelona.cat/resources/bcn/BicingBCN/{year}_{month:02d}_{month_name}_BicingNou_ESTACIONS.7z', f'data/{year}/{month:02d}/{month:02d}.7z')\n",
    "            except:\n",
    "                print(month_name, year, 'Not available')"
   ]
  },
  {
   "cell_type": "code",
   "execution_count": 5,
   "id": "f16f4d40",
   "metadata": {},
   "outputs": [],
   "source": [
    "columns_info = ['station_id', 'name', 'physical_configuration', 'lat', 'lon', 'altitude', 'address', 'post_code', 'capacity', 'is_charging_station','nearby_distance', 'cross_street', 'last_updated','ttl']"
   ]
  },
  {
   "cell_type": "code",
   "execution_count": 6,
   "id": "41ce3bf3",
   "metadata": {},
   "outputs": [],
   "source": [
    "def load_information(year, month):\n",
    "    \"\"\"\n",
    "    Function that reads the downloaded data and converts it to a DataFrame\n",
    "    \"\"\"\n",
    "    if year==2019:\n",
    "        if month==6:\n",
    "            path = f'data/{year}/{month:02d}/{year}_{month:02d}_{i2m[month-1][1]}_NouBicing_INFORMACIO.csv'\n",
    "        elif month<7:\n",
    "            path = f'data/{year}/{month:02d}/{year}_{month:02d}_{i2m[month-1][1]}_BICING2_INFO.csv'\n",
    "        else:\n",
    "            path = f'data/{year}/{month:02d}/{year}_{month:02d}_{i2m[month-1][1]}_BicingNou_INFORMACIO.csv'\n",
    "    else:\n",
    "        path = f'data/{year}/{month:02d}/{year}_{month:02d}_{i2m[month-1][1]}_BicingNou_INFORMACIO.csv'\n",
    "    \n",
    "    try:\n",
    "        if not os.path.exists(path):\n",
    "            z = py7zr.SevenZipFile(f'data/{year}/{month:02d}/{month:02d}_INFO.7z', 'r')\n",
    "            z.extractall(path=f'data/{year}/{month:02d}/')\n",
    "    except:\n",
    "        print('No such file or directory: ',f'{year}_{month:02d}_{i2m[month-1][1]}_BicingNou_INFORMACIO.csv')\n",
    "        return []\n",
    "        \n",
    "    try:\n",
    "        if month==3:\n",
    "            if year==2019:\n",
    "                os.rename(f'data/{year}/{month:02d}/{year}_{month:02d}_Març_BICING2_INFO.csv',path)\n",
    "            else:\n",
    "                os.rename(f'data/{year}/{month:02d}/{year}_{month:02d}_Març_BicingNou_INFORMACIO.csv',path)\n",
    "    except:\n",
    "        print(f'The name of the file is with {i2m[month-1][1]}')\n",
    "    \n",
    "    try:\n",
    "        if (year*month==2022): # Gener 2022\n",
    "            df = pd.read_csv(path, encoding='utf8', encoding_errors='replace', usecols = [i for i in range(13)])\n",
    "        else:\n",
    "            df = pd.read_csv(path, encoding='utf8', encoding_errors='replace')\n",
    "        df = df.loc[:,df.columns.isin(columns_info)]\n",
    "        \n",
    "        return df\n",
    "    \n",
    "    except:\n",
    "        print(f'{month:02d}', year, 'information Not available')\n",
    "        \n",
    "\n"
   ]
  },
  {
   "cell_type": "code",
   "execution_count": 7,
   "id": "1cfad8c1",
   "metadata": {},
   "outputs": [],
   "source": [
    "def load_table(year, month):\n",
    "    \"\"\"\n",
    "    Function that reads the downloaded data and converts it to a DataFrame\n",
    "    \"\"\"\n",
    "    if year==2019:\n",
    "        if month==6:\n",
    "            path = f'data/{year}/{month:02d}/{year}_{month:02d}_{i2m[month-1][1]}_NouBicing_ESTACIONS.csv'\n",
    "        elif month<7:\n",
    "            path = f'data/{year}/{month:02d}/{year}_{month:02d}_{i2m[month-1][1]}_BICING2_STAT.csv'\n",
    "        else:\n",
    "            path = f'data/{year}/{month:02d}/{year}_{month:02d}_{i2m[month-1][1]}_BicingNou_ESTACIONS.csv'\n",
    "    else:\n",
    "        path = f'data/{year}/{month:02d}/{year}_{month:02d}_{i2m[month-1][1]}_BicingNou_ESTACIONS.csv'\n",
    "        \n",
    "    try:\n",
    "        if not os.path.exists(path):\n",
    "            z = py7zr.SevenZipFile(f'data/{year}/{month:02d}/{month:02d}.7z', 'r')\n",
    "            z.extractall(path=f'data/{year}/{month:02d}/')\n",
    "    except:\n",
    "        print(f'The name of the file is {year}_{month:02d}_{i2m[month-1][1]}_BicingNou_ESTACIONS.csv')\n",
    "        return []\n",
    "        \n",
    "        \n",
    "    try:\n",
    "        if month==3:\n",
    "            if year==2019:\n",
    "                os.rename(f'data/{year}/{month:02d}/{year}_{month:02d}_Març_BICING2_STAT.csv',path)\n",
    "            else:\n",
    "                os.rename(f'data/{year}/{month:02d}/{year}_{month:02d}_Març_BicingNou_ESTACIONS.csv',path)\n",
    "    except:\n",
    "        print(f'The name of the file is with {i2m[month-1][1]}')\n",
    "    \n",
    "    try:\n",
    "        df = pd.read_csv(path)\n",
    "        return df\n",
    "    except:\n",
    "        print(f'{month:02d}', year, 'dataset Not available')\n",
    "\n"
   ]
  },
  {
   "cell_type": "code",
   "execution_count": 8,
   "id": "20cdcf61",
   "metadata": {},
   "outputs": [],
   "source": [
    "def clean_data(data, year, month, df_name , sampling = 10000):\n",
    "    \"\"\"\n",
    "    Function that clears the month data.\n",
    "    \"\"\"\n",
    "    if len(data)>0:\n",
    "        data = data[::sampling]\n",
    "        data[\"last_updated\"] = [datetime.datetime.fromtimestamp(t).strftime('%Y-%m-%d %H:%M:%S') for t in data.last_updated]\n",
    "        data[\"day\"]=[datetime.datetime.strptime(t, '%Y-%m-%d %H:%M:%S').day for t in data.last_updated]\n",
    "        data[\"month\"]=[datetime.datetime.strptime(t, '%Y-%m-%d %H:%M:%S').month for t in data.last_updated]\n",
    "        data[\"year\"]=[datetime.datetime.strptime(t, '%Y-%m-%d %H:%M:%S').year for t in data.last_updated]\n",
    "        if df_name!=\"info\":\n",
    "            data[\"last_reported\"] = [datetime.datetime.fromtimestamp(t).strftime('%Y-%m-%d %H:%M:%S') for t in data.last_reported]\n",
    "\n",
    "        return data\n",
    "    return;"
   ]
  },
  {
   "cell_type": "code",
   "execution_count": 9,
   "id": "1d9ed8c2",
   "metadata": {
    "scrolled": false
   },
   "outputs": [
    {
     "data": {
      "application/vnd.jupyter.widget-view+json": {
       "model_id": "cb5cdf67987c4371a833d5302e691f7a",
       "version_major": 2,
       "version_minor": 0
      },
      "text/plain": [
       "  0%|          | 0/4 [00:00<?, ?it/s]"
      ]
     },
     "metadata": {},
     "output_type": "display_data"
    },
    {
     "data": {
      "application/vnd.jupyter.widget-view+json": {
       "model_id": "4ffdb910d8ef45b1a5d7f5db835229fd",
       "version_major": 2,
       "version_minor": 0
      },
      "text/plain": [
       "  0%|          | 0/12 [00:00<?, ?it/s]"
      ]
     },
     "metadata": {},
     "output_type": "display_data"
    },
    {
     "name": "stdout",
     "output_type": "stream",
     "text": [
      "No such file or directory:  2022_01_Gener_BicingNou_INFORMACIO.csv\n",
      "No such file or directory:  2022_02_Febrer_BicingNou_INFORMACIO.csv\n",
      "No such file or directory:  2022_03_Marc_BicingNou_INFORMACIO.csv\n",
      "No such file or directory:  2022_04_Abril_BicingNou_INFORMACIO.csv\n",
      "No such file or directory:  2022_05_Maig_BicingNou_INFORMACIO.csv\n",
      "No such file or directory:  2022_06_Juny_BicingNou_INFORMACIO.csv\n",
      "No such file or directory:  2022_07_Juliol_BicingNou_INFORMACIO.csv\n",
      "No such file or directory:  2022_08_Agost_BicingNou_INFORMACIO.csv\n",
      "No such file or directory:  2022_09_Setembre_BicingNou_INFORMACIO.csv\n",
      "No such file or directory:  2022_10_Octubre_BicingNou_INFORMACIO.csv\n",
      "No such file or directory:  2022_11_Novembre_BicingNou_INFORMACIO.csv\n",
      "No such file or directory:  2022_12_Desembre_BicingNou_INFORMACIO.csv\n"
     ]
    },
    {
     "data": {
      "application/vnd.jupyter.widget-view+json": {
       "model_id": "8a2db8db5cff428db164fa34ad3ac5fc",
       "version_major": 2,
       "version_minor": 0
      },
      "text/plain": [
       "  0%|          | 0/12 [00:00<?, ?it/s]"
      ]
     },
     "metadata": {},
     "output_type": "display_data"
    },
    {
     "name": "stdout",
     "output_type": "stream",
     "text": [
      "No such file or directory:  2021_01_Gener_BicingNou_INFORMACIO.csv\n",
      "No such file or directory:  2021_02_Febrer_BicingNou_INFORMACIO.csv\n",
      "No such file or directory:  2021_03_Marc_BicingNou_INFORMACIO.csv\n",
      "No such file or directory:  2021_04_Abril_BicingNou_INFORMACIO.csv\n",
      "No such file or directory:  2021_05_Maig_BicingNou_INFORMACIO.csv\n",
      "No such file or directory:  2021_06_Juny_BicingNou_INFORMACIO.csv\n",
      "No such file or directory:  2021_07_Juliol_BicingNou_INFORMACIO.csv\n",
      "No such file or directory:  2021_08_Agost_BicingNou_INFORMACIO.csv\n",
      "No such file or directory:  2021_09_Setembre_BicingNou_INFORMACIO.csv\n",
      "No such file or directory:  2021_10_Octubre_BicingNou_INFORMACIO.csv\n",
      "No such file or directory:  2021_11_Novembre_BicingNou_INFORMACIO.csv\n",
      "No such file or directory:  2021_12_Desembre_BicingNou_INFORMACIO.csv\n"
     ]
    },
    {
     "data": {
      "application/vnd.jupyter.widget-view+json": {
       "model_id": "f0abd4d8deda49009b8f4990cebdb471",
       "version_major": 2,
       "version_minor": 0
      },
      "text/plain": [
       "  0%|          | 0/12 [00:00<?, ?it/s]"
      ]
     },
     "metadata": {},
     "output_type": "display_data"
    },
    {
     "name": "stdout",
     "output_type": "stream",
     "text": [
      "No such file or directory:  2020_01_Gener_BicingNou_INFORMACIO.csv\n",
      "No such file or directory:  2020_02_Febrer_BicingNou_INFORMACIO.csv\n",
      "No such file or directory:  2020_03_Marc_BicingNou_INFORMACIO.csv\n",
      "No such file or directory:  2020_04_Abril_BicingNou_INFORMACIO.csv\n",
      "No such file or directory:  2020_05_Maig_BicingNou_INFORMACIO.csv\n",
      "No such file or directory:  2020_06_Juny_BicingNou_INFORMACIO.csv\n",
      "No such file or directory:  2020_07_Juliol_BicingNou_INFORMACIO.csv\n",
      "No such file or directory:  2020_08_Agost_BicingNou_INFORMACIO.csv\n",
      "No such file or directory:  2020_09_Setembre_BicingNou_INFORMACIO.csv\n",
      "No such file or directory:  2020_10_Octubre_BicingNou_INFORMACIO.csv\n",
      "No such file or directory:  2020_11_Novembre_BicingNou_INFORMACIO.csv\n",
      "No such file or directory:  2020_12_Desembre_BicingNou_INFORMACIO.csv\n"
     ]
    },
    {
     "data": {
      "application/vnd.jupyter.widget-view+json": {
       "model_id": "08d7f666ca9d45bfb6bbb1ac763737dd",
       "version_major": 2,
       "version_minor": 0
      },
      "text/plain": [
       "  0%|          | 0/12 [00:00<?, ?it/s]"
      ]
     },
     "metadata": {},
     "output_type": "display_data"
    },
    {
     "name": "stdout",
     "output_type": "stream",
     "text": [
      "No such file or directory:  2019_01_Gener_BicingNou_INFORMACIO.csv\n",
      "No such file or directory:  2019_02_Febrer_BicingNou_INFORMACIO.csv\n",
      "No such file or directory:  2019_03_Marc_BicingNou_INFORMACIO.csv\n",
      "No such file or directory:  2019_04_Abril_BicingNou_INFORMACIO.csv\n",
      "No such file or directory:  2019_05_Maig_BicingNou_INFORMACIO.csv\n",
      "No such file or directory:  2019_06_Juny_BicingNou_INFORMACIO.csv\n",
      "No such file or directory:  2019_07_Juliol_BicingNou_INFORMACIO.csv\n",
      "No such file or directory:  2019_08_Agost_BicingNou_INFORMACIO.csv\n",
      "No such file or directory:  2019_09_Setembre_BicingNou_INFORMACIO.csv\n",
      "No such file or directory:  2019_10_Octubre_BicingNou_INFORMACIO.csv\n",
      "No such file or directory:  2019_11_Novembre_BicingNou_INFORMACIO.csv\n",
      "No such file or directory:  2019_12_Desembre_BicingNou_INFORMACIO.csv\n"
     ]
    },
    {
     "ename": "ValueError",
     "evalue": "All objects passed were None",
     "output_type": "error",
     "traceback": [
      "\u001b[1;31m---------------------------------------------------------------------------\u001b[0m",
      "\u001b[1;31mValueError\u001b[0m                                Traceback (most recent call last)",
      "\u001b[1;32m~\\AppData\\Local\\Temp\\ipykernel_14276\\1646122250.py\u001b[0m in \u001b[0;36m<module>\u001b[1;34m\u001b[0m\n\u001b[1;32m----> 1\u001b[1;33m \u001b[0mdata_info\u001b[0m \u001b[1;33m=\u001b[0m \u001b[0mpd\u001b[0m\u001b[1;33m.\u001b[0m\u001b[0mconcat\u001b[0m\u001b[1;33m(\u001b[0m\u001b[1;33m[\u001b[0m\u001b[0mclean_data\u001b[0m\u001b[1;33m(\u001b[0m\u001b[0mload_information\u001b[0m\u001b[1;33m(\u001b[0m\u001b[0myear\u001b[0m\u001b[1;33m,\u001b[0m \u001b[0mmonth\u001b[0m\u001b[1;33m)\u001b[0m\u001b[1;33m,\u001b[0m\u001b[0myear\u001b[0m\u001b[1;33m,\u001b[0m\u001b[0mmonth\u001b[0m\u001b[1;33m,\u001b[0m\u001b[1;34m\"info\"\u001b[0m\u001b[1;33m)\u001b[0m \u001b[1;32mfor\u001b[0m \u001b[0myear\u001b[0m \u001b[1;32min\u001b[0m \u001b[0mtqdm\u001b[0m\u001b[1;33m(\u001b[0m\u001b[0mYEARS\u001b[0m\u001b[1;33m)\u001b[0m \u001b[1;32mfor\u001b[0m \u001b[0mmonth\u001b[0m \u001b[1;32min\u001b[0m \u001b[0mtqdm\u001b[0m\u001b[1;33m(\u001b[0m\u001b[0mrange\u001b[0m\u001b[1;33m(\u001b[0m\u001b[1;36m1\u001b[0m\u001b[1;33m,\u001b[0m \u001b[1;36m13\u001b[0m\u001b[1;33m)\u001b[0m\u001b[1;33m,\u001b[0m \u001b[0mleave\u001b[0m \u001b[1;33m=\u001b[0m \u001b[1;32mFalse\u001b[0m\u001b[1;33m)\u001b[0m\u001b[1;33m]\u001b[0m\u001b[1;33m)\u001b[0m\u001b[1;33m\u001b[0m\u001b[1;33m\u001b[0m\u001b[0m\n\u001b[0m",
      "\u001b[1;32mc:\\Users\\ptbad\\anaconda3\\lib\\site-packages\\pandas\\util\\_decorators.py\u001b[0m in \u001b[0;36mwrapper\u001b[1;34m(*args, **kwargs)\u001b[0m\n\u001b[0;32m    309\u001b[0m                     \u001b[0mstacklevel\u001b[0m\u001b[1;33m=\u001b[0m\u001b[0mstacklevel\u001b[0m\u001b[1;33m,\u001b[0m\u001b[1;33m\u001b[0m\u001b[1;33m\u001b[0m\u001b[0m\n\u001b[0;32m    310\u001b[0m                 )\n\u001b[1;32m--> 311\u001b[1;33m             \u001b[1;32mreturn\u001b[0m \u001b[0mfunc\u001b[0m\u001b[1;33m(\u001b[0m\u001b[1;33m*\u001b[0m\u001b[0margs\u001b[0m\u001b[1;33m,\u001b[0m \u001b[1;33m**\u001b[0m\u001b[0mkwargs\u001b[0m\u001b[1;33m)\u001b[0m\u001b[1;33m\u001b[0m\u001b[1;33m\u001b[0m\u001b[0m\n\u001b[0m\u001b[0;32m    312\u001b[0m \u001b[1;33m\u001b[0m\u001b[0m\n\u001b[0;32m    313\u001b[0m         \u001b[1;32mreturn\u001b[0m \u001b[0mwrapper\u001b[0m\u001b[1;33m\u001b[0m\u001b[1;33m\u001b[0m\u001b[0m\n",
      "\u001b[1;32mc:\\Users\\ptbad\\anaconda3\\lib\\site-packages\\pandas\\core\\reshape\\concat.py\u001b[0m in \u001b[0;36mconcat\u001b[1;34m(objs, axis, join, ignore_index, keys, levels, names, verify_integrity, sort, copy)\u001b[0m\n\u001b[0;32m    345\u001b[0m     \u001b[0mValueError\u001b[0m\u001b[1;33m:\u001b[0m \u001b[0mIndexes\u001b[0m \u001b[0mhave\u001b[0m \u001b[0moverlapping\u001b[0m \u001b[0mvalues\u001b[0m\u001b[1;33m:\u001b[0m \u001b[1;33m[\u001b[0m\u001b[1;34m'a'\u001b[0m\u001b[1;33m]\u001b[0m\u001b[1;33m\u001b[0m\u001b[1;33m\u001b[0m\u001b[0m\n\u001b[0;32m    346\u001b[0m     \"\"\"\n\u001b[1;32m--> 347\u001b[1;33m     op = _Concatenator(\n\u001b[0m\u001b[0;32m    348\u001b[0m         \u001b[0mobjs\u001b[0m\u001b[1;33m,\u001b[0m\u001b[1;33m\u001b[0m\u001b[1;33m\u001b[0m\u001b[0m\n\u001b[0;32m    349\u001b[0m         \u001b[0maxis\u001b[0m\u001b[1;33m=\u001b[0m\u001b[0maxis\u001b[0m\u001b[1;33m,\u001b[0m\u001b[1;33m\u001b[0m\u001b[1;33m\u001b[0m\u001b[0m\n",
      "\u001b[1;32mc:\\Users\\ptbad\\anaconda3\\lib\\site-packages\\pandas\\core\\reshape\\concat.py\u001b[0m in \u001b[0;36m__init__\u001b[1;34m(self, objs, axis, join, keys, levels, names, ignore_index, verify_integrity, copy, sort)\u001b[0m\n\u001b[0;32m    425\u001b[0m \u001b[1;33m\u001b[0m\u001b[0m\n\u001b[0;32m    426\u001b[0m         \u001b[1;32mif\u001b[0m \u001b[0mlen\u001b[0m\u001b[1;33m(\u001b[0m\u001b[0mobjs\u001b[0m\u001b[1;33m)\u001b[0m \u001b[1;33m==\u001b[0m \u001b[1;36m0\u001b[0m\u001b[1;33m:\u001b[0m\u001b[1;33m\u001b[0m\u001b[1;33m\u001b[0m\u001b[0m\n\u001b[1;32m--> 427\u001b[1;33m             \u001b[1;32mraise\u001b[0m \u001b[0mValueError\u001b[0m\u001b[1;33m(\u001b[0m\u001b[1;34m\"All objects passed were None\"\u001b[0m\u001b[1;33m)\u001b[0m\u001b[1;33m\u001b[0m\u001b[1;33m\u001b[0m\u001b[0m\n\u001b[0m\u001b[0;32m    428\u001b[0m \u001b[1;33m\u001b[0m\u001b[0m\n\u001b[0;32m    429\u001b[0m         \u001b[1;31m# figure out what our result ndim is going to be\u001b[0m\u001b[1;33m\u001b[0m\u001b[1;33m\u001b[0m\u001b[0m\n",
      "\u001b[1;31mValueError\u001b[0m: All objects passed were None"
     ]
    }
   ],
   "source": [
    "data_info = pd.concat([clean_data(load_information(year, month),year,month,\"info\") for year in tqdm(YEARS) for month in tqdm(range(1, 13), leave = False)])"
   ]
  },
  {
   "cell_type": "code",
   "execution_count": 10,
   "id": "ff9f9f3a",
   "metadata": {},
   "outputs": [
    {
     "data": {
      "application/vnd.jupyter.widget-view+json": {
       "model_id": "0778b21d8f684837bf2eccfb20f8375b",
       "version_major": 2,
       "version_minor": 0
      },
      "text/plain": [
       "  0%|          | 0/4 [00:00<?, ?it/s]"
      ]
     },
     "metadata": {},
     "output_type": "display_data"
    },
    {
     "data": {
      "application/vnd.jupyter.widget-view+json": {
       "model_id": "67fd2061586f4a6890f09caee4a875b4",
       "version_major": 2,
       "version_minor": 0
      },
      "text/plain": [
       "  0%|          | 0/12 [00:00<?, ?it/s]"
      ]
     },
     "metadata": {},
     "output_type": "display_data"
    },
    {
     "name": "stdout",
     "output_type": "stream",
     "text": [
      "The name of the file is 2022_01_Gener_BicingNou_ESTACIONS.csv\n",
      "The name of the file is 2022_02_Febrer_BicingNou_ESTACIONS.csv\n",
      "The name of the file is 2022_03_Marc_BicingNou_ESTACIONS.csv\n",
      "The name of the file is 2022_04_Abril_BicingNou_ESTACIONS.csv\n",
      "The name of the file is 2022_05_Maig_BicingNou_ESTACIONS.csv\n",
      "The name of the file is 2022_06_Juny_BicingNou_ESTACIONS.csv\n",
      "The name of the file is 2022_07_Juliol_BicingNou_ESTACIONS.csv\n",
      "The name of the file is 2022_08_Agost_BicingNou_ESTACIONS.csv\n",
      "The name of the file is 2022_09_Setembre_BicingNou_ESTACIONS.csv\n",
      "The name of the file is 2022_10_Octubre_BicingNou_ESTACIONS.csv\n",
      "The name of the file is 2022_11_Novembre_BicingNou_ESTACIONS.csv\n",
      "The name of the file is 2022_12_Desembre_BicingNou_ESTACIONS.csv\n"
     ]
    },
    {
     "data": {
      "application/vnd.jupyter.widget-view+json": {
       "model_id": "a2a5b633b8cf45c0a7f8656e1f022102",
       "version_major": 2,
       "version_minor": 0
      },
      "text/plain": [
       "  0%|          | 0/12 [00:00<?, ?it/s]"
      ]
     },
     "metadata": {},
     "output_type": "display_data"
    },
    {
     "name": "stdout",
     "output_type": "stream",
     "text": [
      "The name of the file is 2021_01_Gener_BicingNou_ESTACIONS.csv\n",
      "The name of the file is 2021_02_Febrer_BicingNou_ESTACIONS.csv\n",
      "The name of the file is 2021_03_Marc_BicingNou_ESTACIONS.csv\n",
      "The name of the file is 2021_04_Abril_BicingNou_ESTACIONS.csv\n",
      "The name of the file is 2021_05_Maig_BicingNou_ESTACIONS.csv\n",
      "The name of the file is 2021_06_Juny_BicingNou_ESTACIONS.csv\n",
      "The name of the file is 2021_07_Juliol_BicingNou_ESTACIONS.csv\n",
      "The name of the file is 2021_08_Agost_BicingNou_ESTACIONS.csv\n",
      "The name of the file is 2021_09_Setembre_BicingNou_ESTACIONS.csv\n",
      "The name of the file is 2021_10_Octubre_BicingNou_ESTACIONS.csv\n",
      "The name of the file is 2021_11_Novembre_BicingNou_ESTACIONS.csv\n",
      "The name of the file is 2021_12_Desembre_BicingNou_ESTACIONS.csv\n"
     ]
    },
    {
     "data": {
      "application/vnd.jupyter.widget-view+json": {
       "model_id": "7dbf798ecbe94c468770ee7be76cd790",
       "version_major": 2,
       "version_minor": 0
      },
      "text/plain": [
       "  0%|          | 0/12 [00:00<?, ?it/s]"
      ]
     },
     "metadata": {},
     "output_type": "display_data"
    },
    {
     "name": "stdout",
     "output_type": "stream",
     "text": [
      "The name of the file is 2020_01_Gener_BicingNou_ESTACIONS.csv\n",
      "The name of the file is 2020_02_Febrer_BicingNou_ESTACIONS.csv\n",
      "The name of the file is 2020_03_Marc_BicingNou_ESTACIONS.csv\n",
      "The name of the file is 2020_04_Abril_BicingNou_ESTACIONS.csv\n",
      "The name of the file is 2020_05_Maig_BicingNou_ESTACIONS.csv\n",
      "The name of the file is 2020_06_Juny_BicingNou_ESTACIONS.csv\n",
      "The name of the file is 2020_07_Juliol_BicingNou_ESTACIONS.csv\n",
      "The name of the file is 2020_08_Agost_BicingNou_ESTACIONS.csv\n",
      "The name of the file is 2020_09_Setembre_BicingNou_ESTACIONS.csv\n",
      "The name of the file is 2020_10_Octubre_BicingNou_ESTACIONS.csv\n",
      "The name of the file is 2020_11_Novembre_BicingNou_ESTACIONS.csv\n",
      "The name of the file is 2020_12_Desembre_BicingNou_ESTACIONS.csv\n"
     ]
    },
    {
     "data": {
      "application/vnd.jupyter.widget-view+json": {
       "model_id": "54d073208e0c4b4fb0da86bba915cfe2",
       "version_major": 2,
       "version_minor": 0
      },
      "text/plain": [
       "  0%|          | 0/12 [00:00<?, ?it/s]"
      ]
     },
     "metadata": {},
     "output_type": "display_data"
    },
    {
     "name": "stdout",
     "output_type": "stream",
     "text": [
      "The name of the file is 2019_01_Gener_BicingNou_ESTACIONS.csv\n",
      "The name of the file is 2019_02_Febrer_BicingNou_ESTACIONS.csv\n",
      "The name of the file is 2019_03_Marc_BicingNou_ESTACIONS.csv\n",
      "The name of the file is 2019_04_Abril_BicingNou_ESTACIONS.csv\n",
      "The name of the file is 2019_05_Maig_BicingNou_ESTACIONS.csv\n",
      "The name of the file is 2019_06_Juny_BicingNou_ESTACIONS.csv\n",
      "The name of the file is 2019_07_Juliol_BicingNou_ESTACIONS.csv\n",
      "The name of the file is 2019_08_Agost_BicingNou_ESTACIONS.csv\n",
      "The name of the file is 2019_09_Setembre_BicingNou_ESTACIONS.csv\n",
      "The name of the file is 2019_10_Octubre_BicingNou_ESTACIONS.csv\n",
      "The name of the file is 2019_11_Novembre_BicingNou_ESTACIONS.csv\n",
      "The name of the file is 2019_12_Desembre_BicingNou_ESTACIONS.csv\n"
     ]
    },
    {
     "ename": "ValueError",
     "evalue": "All objects passed were None",
     "output_type": "error",
     "traceback": [
      "\u001b[1;31m---------------------------------------------------------------------------\u001b[0m",
      "\u001b[1;31mValueError\u001b[0m                                Traceback (most recent call last)",
      "\u001b[1;32m~\\AppData\\Local\\Temp\\ipykernel_14276\\155169972.py\u001b[0m in \u001b[0;36m<module>\u001b[1;34m\u001b[0m\n\u001b[1;32m----> 1\u001b[1;33m \u001b[0mdata\u001b[0m \u001b[1;33m=\u001b[0m \u001b[0mpd\u001b[0m\u001b[1;33m.\u001b[0m\u001b[0mconcat\u001b[0m\u001b[1;33m(\u001b[0m\u001b[1;33m[\u001b[0m\u001b[0mclean_data\u001b[0m\u001b[1;33m(\u001b[0m\u001b[0mload_table\u001b[0m\u001b[1;33m(\u001b[0m\u001b[0myear\u001b[0m\u001b[1;33m,\u001b[0m \u001b[0mmonth\u001b[0m\u001b[1;33m)\u001b[0m\u001b[1;33m,\u001b[0m\u001b[0myear\u001b[0m\u001b[1;33m,\u001b[0m\u001b[0mmonth\u001b[0m\u001b[1;33m,\u001b[0m\u001b[1;34m\"data\"\u001b[0m\u001b[1;33m)\u001b[0m \u001b[1;32mfor\u001b[0m \u001b[0myear\u001b[0m \u001b[1;32min\u001b[0m \u001b[0mtqdm\u001b[0m\u001b[1;33m(\u001b[0m\u001b[0mYEARS\u001b[0m\u001b[1;33m)\u001b[0m \u001b[1;32mfor\u001b[0m \u001b[0mmonth\u001b[0m \u001b[1;32min\u001b[0m \u001b[0mtqdm\u001b[0m\u001b[1;33m(\u001b[0m\u001b[0mrange\u001b[0m\u001b[1;33m(\u001b[0m\u001b[1;36m1\u001b[0m\u001b[1;33m,\u001b[0m \u001b[1;36m13\u001b[0m\u001b[1;33m)\u001b[0m\u001b[1;33m,\u001b[0m \u001b[0mleave\u001b[0m \u001b[1;33m=\u001b[0m \u001b[1;32mFalse\u001b[0m\u001b[1;33m)\u001b[0m\u001b[1;33m]\u001b[0m\u001b[1;33m)\u001b[0m\u001b[1;33m\u001b[0m\u001b[1;33m\u001b[0m\u001b[0m\n\u001b[0m",
      "\u001b[1;32mc:\\Users\\ptbad\\anaconda3\\lib\\site-packages\\pandas\\util\\_decorators.py\u001b[0m in \u001b[0;36mwrapper\u001b[1;34m(*args, **kwargs)\u001b[0m\n\u001b[0;32m    309\u001b[0m                     \u001b[0mstacklevel\u001b[0m\u001b[1;33m=\u001b[0m\u001b[0mstacklevel\u001b[0m\u001b[1;33m,\u001b[0m\u001b[1;33m\u001b[0m\u001b[1;33m\u001b[0m\u001b[0m\n\u001b[0;32m    310\u001b[0m                 )\n\u001b[1;32m--> 311\u001b[1;33m             \u001b[1;32mreturn\u001b[0m \u001b[0mfunc\u001b[0m\u001b[1;33m(\u001b[0m\u001b[1;33m*\u001b[0m\u001b[0margs\u001b[0m\u001b[1;33m,\u001b[0m \u001b[1;33m**\u001b[0m\u001b[0mkwargs\u001b[0m\u001b[1;33m)\u001b[0m\u001b[1;33m\u001b[0m\u001b[1;33m\u001b[0m\u001b[0m\n\u001b[0m\u001b[0;32m    312\u001b[0m \u001b[1;33m\u001b[0m\u001b[0m\n\u001b[0;32m    313\u001b[0m         \u001b[1;32mreturn\u001b[0m \u001b[0mwrapper\u001b[0m\u001b[1;33m\u001b[0m\u001b[1;33m\u001b[0m\u001b[0m\n",
      "\u001b[1;32mc:\\Users\\ptbad\\anaconda3\\lib\\site-packages\\pandas\\core\\reshape\\concat.py\u001b[0m in \u001b[0;36mconcat\u001b[1;34m(objs, axis, join, ignore_index, keys, levels, names, verify_integrity, sort, copy)\u001b[0m\n\u001b[0;32m    345\u001b[0m     \u001b[0mValueError\u001b[0m\u001b[1;33m:\u001b[0m \u001b[0mIndexes\u001b[0m \u001b[0mhave\u001b[0m \u001b[0moverlapping\u001b[0m \u001b[0mvalues\u001b[0m\u001b[1;33m:\u001b[0m \u001b[1;33m[\u001b[0m\u001b[1;34m'a'\u001b[0m\u001b[1;33m]\u001b[0m\u001b[1;33m\u001b[0m\u001b[1;33m\u001b[0m\u001b[0m\n\u001b[0;32m    346\u001b[0m     \"\"\"\n\u001b[1;32m--> 347\u001b[1;33m     op = _Concatenator(\n\u001b[0m\u001b[0;32m    348\u001b[0m         \u001b[0mobjs\u001b[0m\u001b[1;33m,\u001b[0m\u001b[1;33m\u001b[0m\u001b[1;33m\u001b[0m\u001b[0m\n\u001b[0;32m    349\u001b[0m         \u001b[0maxis\u001b[0m\u001b[1;33m=\u001b[0m\u001b[0maxis\u001b[0m\u001b[1;33m,\u001b[0m\u001b[1;33m\u001b[0m\u001b[1;33m\u001b[0m\u001b[0m\n",
      "\u001b[1;32mc:\\Users\\ptbad\\anaconda3\\lib\\site-packages\\pandas\\core\\reshape\\concat.py\u001b[0m in \u001b[0;36m__init__\u001b[1;34m(self, objs, axis, join, keys, levels, names, ignore_index, verify_integrity, copy, sort)\u001b[0m\n\u001b[0;32m    425\u001b[0m \u001b[1;33m\u001b[0m\u001b[0m\n\u001b[0;32m    426\u001b[0m         \u001b[1;32mif\u001b[0m \u001b[0mlen\u001b[0m\u001b[1;33m(\u001b[0m\u001b[0mobjs\u001b[0m\u001b[1;33m)\u001b[0m \u001b[1;33m==\u001b[0m \u001b[1;36m0\u001b[0m\u001b[1;33m:\u001b[0m\u001b[1;33m\u001b[0m\u001b[1;33m\u001b[0m\u001b[0m\n\u001b[1;32m--> 427\u001b[1;33m             \u001b[1;32mraise\u001b[0m \u001b[0mValueError\u001b[0m\u001b[1;33m(\u001b[0m\u001b[1;34m\"All objects passed were None\"\u001b[0m\u001b[1;33m)\u001b[0m\u001b[1;33m\u001b[0m\u001b[1;33m\u001b[0m\u001b[0m\n\u001b[0m\u001b[0;32m    428\u001b[0m \u001b[1;33m\u001b[0m\u001b[0m\n\u001b[0;32m    429\u001b[0m         \u001b[1;31m# figure out what our result ndim is going to be\u001b[0m\u001b[1;33m\u001b[0m\u001b[1;33m\u001b[0m\u001b[0m\n",
      "\u001b[1;31mValueError\u001b[0m: All objects passed were None"
     ]
    }
   ],
   "source": [
    "data = pd.concat([clean_data(load_table(year, month),year,month,\"data\") for year in tqdm(YEARS) for month in tqdm(range(1, 13), leave = False)])"
   ]
  },
  {
   "cell_type": "code",
   "execution_count": 11,
   "id": "9cbc815c",
   "metadata": {},
   "outputs": [
    {
     "ename": "NameError",
     "evalue": "name 'data' is not defined",
     "output_type": "error",
     "traceback": [
      "\u001b[1;31m---------------------------------------------------------------------------\u001b[0m",
      "\u001b[1;31mNameError\u001b[0m                                 Traceback (most recent call last)",
      "\u001b[1;32m~\\AppData\\Local\\Temp\\ipykernel_14276\\1266705919.py\u001b[0m in \u001b[0;36m<module>\u001b[1;34m\u001b[0m\n\u001b[1;32m----> 1\u001b[1;33m \u001b[0mdata\u001b[0m\u001b[1;33m.\u001b[0m\u001b[0misna\u001b[0m\u001b[1;33m(\u001b[0m\u001b[1;33m)\u001b[0m\u001b[1;33m.\u001b[0m\u001b[0msum\u001b[0m\u001b[1;33m(\u001b[0m\u001b[1;33m)\u001b[0m\u001b[1;33m\u001b[0m\u001b[1;33m\u001b[0m\u001b[0m\n\u001b[0m",
      "\u001b[1;31mNameError\u001b[0m: name 'data' is not defined"
     ]
    }
   ],
   "source": [
    "data.isna().sum()"
   ]
  },
  {
   "cell_type": "code",
   "execution_count": 12,
   "id": "da51e618",
   "metadata": {},
   "outputs": [
    {
     "ename": "NameError",
     "evalue": "name 'data_info' is not defined",
     "output_type": "error",
     "traceback": [
      "\u001b[1;31m---------------------------------------------------------------------------\u001b[0m",
      "\u001b[1;31mNameError\u001b[0m                                 Traceback (most recent call last)",
      "\u001b[1;32m~\\AppData\\Local\\Temp\\ipykernel_14276\\1354335209.py\u001b[0m in \u001b[0;36m<module>\u001b[1;34m\u001b[0m\n\u001b[1;32m----> 1\u001b[1;33m \u001b[0mdata_info\u001b[0m\u001b[1;33m.\u001b[0m\u001b[0misna\u001b[0m\u001b[1;33m(\u001b[0m\u001b[1;33m)\u001b[0m\u001b[1;33m.\u001b[0m\u001b[0msum\u001b[0m\u001b[1;33m(\u001b[0m\u001b[1;33m)\u001b[0m\u001b[1;33m\u001b[0m\u001b[1;33m\u001b[0m\u001b[0m\n\u001b[0m",
      "\u001b[1;31mNameError\u001b[0m: name 'data_info' is not defined"
     ]
    }
   ],
   "source": [
    "data_info.isna().sum()"
   ]
  },
  {
   "cell_type": "code",
   "execution_count": 13,
   "id": "6eb102a9",
   "metadata": {},
   "outputs": [
    {
     "ename": "NameError",
     "evalue": "name 'data' is not defined",
     "output_type": "error",
     "traceback": [
      "\u001b[1;31m---------------------------------------------------------------------------\u001b[0m",
      "\u001b[1;31mNameError\u001b[0m                                 Traceback (most recent call last)",
      "\u001b[1;32m~\\AppData\\Local\\Temp\\ipykernel_14276\\3010705030.py\u001b[0m in \u001b[0;36m<module>\u001b[1;34m\u001b[0m\n\u001b[0;32m      1\u001b[0m \u001b[1;31m# data.groupby([\"year\",\"month\"]).count()\u001b[0m\u001b[1;33m\u001b[0m\u001b[1;33m\u001b[0m\u001b[0m\n\u001b[1;32m----> 2\u001b[1;33m \u001b[0mdata\u001b[0m\u001b[1;33m.\u001b[0m\u001b[0mhead\u001b[0m\u001b[1;33m(\u001b[0m\u001b[1;33m)\u001b[0m\u001b[1;33m\u001b[0m\u001b[1;33m\u001b[0m\u001b[0m\n\u001b[0m",
      "\u001b[1;31mNameError\u001b[0m: name 'data' is not defined"
     ]
    }
   ],
   "source": [
    "# data.groupby([\"year\",\"month\"]).count()\n",
    "data.head()"
   ]
  },
  {
   "cell_type": "code",
   "execution_count": 104,
   "id": "d163a239",
   "metadata": {},
   "outputs": [
    {
     "data": {
      "text/html": [
       "<div>\n",
       "<style scoped>\n",
       "    .dataframe tbody tr th:only-of-type {\n",
       "        vertical-align: middle;\n",
       "    }\n",
       "\n",
       "    .dataframe tbody tr th {\n",
       "        vertical-align: top;\n",
       "    }\n",
       "\n",
       "    .dataframe thead th {\n",
       "        text-align: right;\n",
       "    }\n",
       "</style>\n",
       "<table border=\"1\" class=\"dataframe\">\n",
       "  <thead>\n",
       "    <tr style=\"text-align: right;\">\n",
       "      <th></th>\n",
       "      <th>station_id</th>\n",
       "      <th>name</th>\n",
       "      <th>physical_configuration</th>\n",
       "      <th>lat</th>\n",
       "      <th>lon</th>\n",
       "      <th>altitude</th>\n",
       "      <th>address</th>\n",
       "      <th>post_code</th>\n",
       "      <th>capacity</th>\n",
       "      <th>nearby_distance</th>\n",
       "      <th>cross_street</th>\n",
       "      <th>last_updated</th>\n",
       "      <th>ttl</th>\n",
       "      <th>day</th>\n",
       "      <th>month</th>\n",
       "      <th>year</th>\n",
       "      <th>is_charging_station</th>\n",
       "    </tr>\n",
       "  </thead>\n",
       "  <tbody>\n",
       "    <tr>\n",
       "      <th>0</th>\n",
       "      <td>1.0</td>\n",
       "      <td>GRAN VIA CORTS CATALANES, 760</td>\n",
       "      <td>ELECTRICBIKESTATION</td>\n",
       "      <td>41.397978</td>\n",
       "      <td>2.180107</td>\n",
       "      <td>16.0</td>\n",
       "      <td>GRAN VIA CORTS CATALANES, 760</td>\n",
       "      <td>8013.0</td>\n",
       "      <td>46.0</td>\n",
       "      <td>1000.0</td>\n",
       "      <td>NaN</td>\n",
       "      <td>2021-12-31 23:59:55</td>\n",
       "      <td>18.0</td>\n",
       "      <td>31</td>\n",
       "      <td>12</td>\n",
       "      <td>2021</td>\n",
       "      <td>NaN</td>\n",
       "    </tr>\n",
       "    <tr>\n",
       "      <th>10000</th>\n",
       "      <td>357.0</td>\n",
       "      <td>C/ CARDENER, 59</td>\n",
       "      <td>ELECTRICBIKESTATION</td>\n",
       "      <td>41.410596</td>\n",
       "      <td>2.157990</td>\n",
       "      <td>87.0</td>\n",
       "      <td>C/ CARDENER, 59</td>\n",
       "      <td>8024.0</td>\n",
       "      <td>27.0</td>\n",
       "      <td>1000.0</td>\n",
       "      <td>NaN</td>\n",
       "      <td>2022-01-01 01:34:42</td>\n",
       "      <td>6.0</td>\n",
       "      <td>1</td>\n",
       "      <td>1</td>\n",
       "      <td>2022</td>\n",
       "      <td>NaN</td>\n",
       "    </tr>\n",
       "    <tr>\n",
       "      <th>20000</th>\n",
       "      <td>197.0</td>\n",
       "      <td>C/ GELABERT, 1</td>\n",
       "      <td>ELECTRICBIKESTATION</td>\n",
       "      <td>41.387158</td>\n",
       "      <td>2.141094</td>\n",
       "      <td>47.0</td>\n",
       "      <td>C/ GELABERT, 1</td>\n",
       "      <td>8029.0</td>\n",
       "      <td>27.0</td>\n",
       "      <td>1000.0</td>\n",
       "      <td>NaN</td>\n",
       "      <td>2022-01-01 03:15:10</td>\n",
       "      <td>30.0</td>\n",
       "      <td>1</td>\n",
       "      <td>1</td>\n",
       "      <td>2022</td>\n",
       "      <td>NaN</td>\n",
       "    </tr>\n",
       "    <tr>\n",
       "      <th>30000</th>\n",
       "      <td>30.0</td>\n",
       "      <td>AV. DIAGONAL, 231 AMB PADILLA</td>\n",
       "      <td>ELECTRICBIKESTATION</td>\n",
       "      <td>41.402181</td>\n",
       "      <td>2.182989</td>\n",
       "      <td>13.0</td>\n",
       "      <td>AV. DIAGONAL, 231 AMB PADILLA</td>\n",
       "      <td>8013.0</td>\n",
       "      <td>29.0</td>\n",
       "      <td>1000.0</td>\n",
       "      <td>NaN</td>\n",
       "      <td>2022-01-01 04:54:54</td>\n",
       "      <td>18.0</td>\n",
       "      <td>1</td>\n",
       "      <td>1</td>\n",
       "      <td>2022</td>\n",
       "      <td>NaN</td>\n",
       "    </tr>\n",
       "    <tr>\n",
       "      <th>40000</th>\n",
       "      <td>385.0</td>\n",
       "      <td>C/ CASANOVA, 119</td>\n",
       "      <td>ELECTRICBIKESTATION</td>\n",
       "      <td>41.387888</td>\n",
       "      <td>2.155290</td>\n",
       "      <td>30.0</td>\n",
       "      <td>C/ CASANOVA, 119</td>\n",
       "      <td>8036.0</td>\n",
       "      <td>30.0</td>\n",
       "      <td>1000.0</td>\n",
       "      <td>NaN</td>\n",
       "      <td>2022-01-01 06:29:37</td>\n",
       "      <td>1.0</td>\n",
       "      <td>1</td>\n",
       "      <td>1</td>\n",
       "      <td>2022</td>\n",
       "      <td>NaN</td>\n",
       "    </tr>\n",
       "  </tbody>\n",
       "</table>\n",
       "</div>"
      ],
      "text/plain": [
       "       station_id                           name physical_configuration  \\\n",
       "0             1.0  GRAN VIA CORTS CATALANES, 760    ELECTRICBIKESTATION   \n",
       "10000       357.0                C/ CARDENER, 59    ELECTRICBIKESTATION   \n",
       "20000       197.0                 C/ GELABERT, 1    ELECTRICBIKESTATION   \n",
       "30000        30.0  AV. DIAGONAL, 231 AMB PADILLA    ELECTRICBIKESTATION   \n",
       "40000       385.0               C/ CASANOVA, 119    ELECTRICBIKESTATION   \n",
       "\n",
       "             lat       lon altitude                        address post_code  \\\n",
       "0      41.397978  2.180107     16.0  GRAN VIA CORTS CATALANES, 760    8013.0   \n",
       "10000  41.410596  2.157990     87.0                C/ CARDENER, 59    8024.0   \n",
       "20000  41.387158  2.141094     47.0                 C/ GELABERT, 1    8029.0   \n",
       "30000  41.402181  2.182989     13.0  AV. DIAGONAL, 231 AMB PADILLA    8013.0   \n",
       "40000  41.387888  2.155290     30.0               C/ CASANOVA, 119    8036.0   \n",
       "\n",
       "       capacity  nearby_distance cross_street         last_updated   ttl  day  \\\n",
       "0          46.0           1000.0          NaN  2021-12-31 23:59:55  18.0   31   \n",
       "10000      27.0           1000.0          NaN  2022-01-01 01:34:42   6.0    1   \n",
       "20000      27.0           1000.0          NaN  2022-01-01 03:15:10  30.0    1   \n",
       "30000      29.0           1000.0          NaN  2022-01-01 04:54:54  18.0    1   \n",
       "40000      30.0           1000.0          NaN  2022-01-01 06:29:37   1.0    1   \n",
       "\n",
       "       month  year is_charging_station  \n",
       "0         12  2021                 NaN  \n",
       "10000      1  2022                 NaN  \n",
       "20000      1  2022                 NaN  \n",
       "30000      1  2022                 NaN  \n",
       "40000      1  2022                 NaN  "
      ]
     },
     "execution_count": 104,
     "metadata": {},
     "output_type": "execute_result"
    }
   ],
   "source": [
    "# data_info.groupby([\"year\",\"month\"]).count()\n",
    "data_info.head()"
   ]
  }
 ],
 "metadata": {
  "kernelspec": {
   "display_name": "Python 3 (ipykernel)",
   "language": "python",
   "name": "python3"
  },
  "language_info": {
   "codemirror_mode": {
    "name": "ipython",
    "version": 3
   },
   "file_extension": ".py",
   "mimetype": "text/x-python",
   "name": "python",
   "nbconvert_exporter": "python",
   "pygments_lexer": "ipython3",
   "version": "3.9.13"
  }
 },
 "nbformat": 4,
 "nbformat_minor": 5
}
